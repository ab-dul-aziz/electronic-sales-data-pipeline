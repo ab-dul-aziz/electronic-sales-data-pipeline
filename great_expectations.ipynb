{
 "cells": [
  {
   "cell_type": "markdown",
   "metadata": {},
   "source": [
    "# 1. Preface"
   ]
  },
  {
   "cell_type": "markdown",
   "metadata": {},
   "source": [
    "---\n",
    "```plain\n",
    "This notebook is designed to leverage Great Expectations for data validation, ensuring that the dataset meets quality standards before analysis. By integrating Great Expectations, we can create data profiles, perform checks to verify data consistency, and generate comprehensive validation reports. This process helps maintain data integrity and prepares it for more reliable downstream tasks.\n",
    "```\n",
    "---"
   ]
  },
  {
   "cell_type": "markdown",
   "metadata": {},
   "source": [
    "# 2. Import Libraries"
   ]
  },
  {
   "cell_type": "code",
   "execution_count": 1,
   "metadata": {},
   "outputs": [],
   "source": [
    "# Create a data context\n",
    "from great_expectations.data_context import FileDataContext"
   ]
  },
  {
   "cell_type": "markdown",
   "metadata": {},
   "source": [
    "# 3. Preparing Data for Great Expectations"
   ]
  },
  {
   "cell_type": "markdown",
   "metadata": {},
   "source": [
    "## 3.1. Instantiate Data Context"
   ]
  },
  {
   "cell_type": "markdown",
   "metadata": {},
   "source": [
    "In this section, I will create a data context using `FileDataContext` to configure data validation settings according to the current project directory."
   ]
  },
  {
   "cell_type": "code",
   "execution_count": 2,
   "metadata": {},
   "outputs": [],
   "source": [
    "# Create a data context\n",
    "context = FileDataContext.create(project_root_dir='./')"
   ]
  },
  {
   "cell_type": "markdown",
   "metadata": {},
   "source": [
    "## 3.2. Connect to A Datasource"
   ]
  },
  {
   "cell_type": "markdown",
   "metadata": {},
   "source": [
    "In this section, I will assign unique names to the Datasource and Data Asset. The Datasource refers to the CSV file containing sales data, while the Data Asset represents a specific subset of data within that datasource. Afterward, I will create a batch request to process the data."
   ]
  },
  {
   "cell_type": "code",
   "execution_count": 3,
   "metadata": {},
   "outputs": [],
   "source": [
    "# Give a name to a Datasource. This name must be unique between Datasources.\n",
    "datasource_name = 'csv-data-sales'\n",
    "datasource = context.sources.add_pandas(datasource_name)\n",
    "\n",
    "# Give a name to a data asset\n",
    "asset_name = 'sales'\n",
    "path_to_data = 'data/clean_data.csv'\n",
    "asset = datasource.add_csv_asset(asset_name, filepath_or_buffer=path_to_data)\n",
    "\n",
    "# Build batch request\n",
    "batch_request = asset.build_batch_request()"
   ]
  },
  {
   "cell_type": "markdown",
   "metadata": {},
   "source": [
    "## 3.3. Create an Expectation Suite"
   ]
  },
  {
   "cell_type": "markdown",
   "metadata": {},
   "source": [
    "In this section, I will create an expectation suite named `expectation-sales-dataset`, which will be used to store data validation rules and a validator to validate the data using the previously created batch request."
   ]
  },
  {
   "cell_type": "code",
   "execution_count": 4,
   "metadata": {},
   "outputs": [
    {
     "data": {
      "application/vnd.jupyter.widget-view+json": {
       "model_id": "c92c7531e1ca42c48ecadf90a3472c62",
       "version_major": 2,
       "version_minor": 0
      },
      "text/plain": [
       "Calculating Metrics:   0%|          | 0/1 [00:00<?, ?it/s]"
      ]
     },
     "metadata": {},
     "output_type": "display_data"
    },
    {
     "data": {
      "text/html": [
       "<div>\n",
       "<style scoped>\n",
       "    .dataframe tbody tr th:only-of-type {\n",
       "        vertical-align: middle;\n",
       "    }\n",
       "\n",
       "    .dataframe tbody tr th {\n",
       "        vertical-align: top;\n",
       "    }\n",
       "\n",
       "    .dataframe thead th {\n",
       "        text-align: right;\n",
       "    }\n",
       "</style>\n",
       "<table border=\"1\" class=\"dataframe\">\n",
       "  <thead>\n",
       "    <tr style=\"text-align: right;\">\n",
       "      <th></th>\n",
       "      <th>transaction_id</th>\n",
       "      <th>customer_id</th>\n",
       "      <th>age</th>\n",
       "      <th>gender</th>\n",
       "      <th>loyalty_member</th>\n",
       "      <th>product_type</th>\n",
       "      <th>sku</th>\n",
       "      <th>rating</th>\n",
       "      <th>order_status</th>\n",
       "      <th>payment_method</th>\n",
       "      <th>total_price</th>\n",
       "      <th>unit_price</th>\n",
       "      <th>quantity</th>\n",
       "      <th>purchase_date</th>\n",
       "      <th>shipping_type</th>\n",
       "      <th>add_ons_purchased</th>\n",
       "      <th>add_on_total</th>\n",
       "      <th>revenue</th>\n",
       "    </tr>\n",
       "  </thead>\n",
       "  <tbody>\n",
       "    <tr>\n",
       "      <th>0</th>\n",
       "      <td>1</td>\n",
       "      <td>1000</td>\n",
       "      <td>53</td>\n",
       "      <td>Male</td>\n",
       "      <td>No</td>\n",
       "      <td>Smartphone</td>\n",
       "      <td>SKU1004</td>\n",
       "      <td>2</td>\n",
       "      <td>Cancelled</td>\n",
       "      <td>Credit Card</td>\n",
       "      <td>5538.33</td>\n",
       "      <td>791.19</td>\n",
       "      <td>7</td>\n",
       "      <td>2024-03-20</td>\n",
       "      <td>Standard</td>\n",
       "      <td>Add ons</td>\n",
       "      <td>40.21</td>\n",
       "      <td>5578.54</td>\n",
       "    </tr>\n",
       "    <tr>\n",
       "      <th>1</th>\n",
       "      <td>2</td>\n",
       "      <td>1000</td>\n",
       "      <td>53</td>\n",
       "      <td>Male</td>\n",
       "      <td>No</td>\n",
       "      <td>Tablet</td>\n",
       "      <td>SKU1002</td>\n",
       "      <td>3</td>\n",
       "      <td>Completed</td>\n",
       "      <td>Paypal</td>\n",
       "      <td>741.09</td>\n",
       "      <td>247.03</td>\n",
       "      <td>3</td>\n",
       "      <td>2024-04-20</td>\n",
       "      <td>Overnight</td>\n",
       "      <td>Add ons</td>\n",
       "      <td>26.09</td>\n",
       "      <td>767.18</td>\n",
       "    </tr>\n",
       "    <tr>\n",
       "      <th>2</th>\n",
       "      <td>3</td>\n",
       "      <td>1002</td>\n",
       "      <td>41</td>\n",
       "      <td>Male</td>\n",
       "      <td>No</td>\n",
       "      <td>Laptop</td>\n",
       "      <td>SKU1005</td>\n",
       "      <td>3</td>\n",
       "      <td>Completed</td>\n",
       "      <td>Credit Card</td>\n",
       "      <td>1855.84</td>\n",
       "      <td>463.96</td>\n",
       "      <td>4</td>\n",
       "      <td>2023-10-17</td>\n",
       "      <td>Express</td>\n",
       "      <td>No Add ons</td>\n",
       "      <td>0.00</td>\n",
       "      <td>1855.84</td>\n",
       "    </tr>\n",
       "    <tr>\n",
       "      <th>3</th>\n",
       "      <td>4</td>\n",
       "      <td>1002</td>\n",
       "      <td>41</td>\n",
       "      <td>Male</td>\n",
       "      <td>Yes</td>\n",
       "      <td>Smartphone</td>\n",
       "      <td>SKU1004</td>\n",
       "      <td>2</td>\n",
       "      <td>Completed</td>\n",
       "      <td>Cash</td>\n",
       "      <td>3164.76</td>\n",
       "      <td>791.19</td>\n",
       "      <td>4</td>\n",
       "      <td>2024-08-09</td>\n",
       "      <td>Overnight</td>\n",
       "      <td>Add ons</td>\n",
       "      <td>60.16</td>\n",
       "      <td>3224.92</td>\n",
       "    </tr>\n",
       "    <tr>\n",
       "      <th>4</th>\n",
       "      <td>5</td>\n",
       "      <td>1003</td>\n",
       "      <td>75</td>\n",
       "      <td>Male</td>\n",
       "      <td>Yes</td>\n",
       "      <td>Smartphone</td>\n",
       "      <td>SKU1001</td>\n",
       "      <td>5</td>\n",
       "      <td>Completed</td>\n",
       "      <td>Cash</td>\n",
       "      <td>41.50</td>\n",
       "      <td>20.75</td>\n",
       "      <td>2</td>\n",
       "      <td>2024-05-21</td>\n",
       "      <td>Express</td>\n",
       "      <td>Add ons</td>\n",
       "      <td>35.56</td>\n",
       "      <td>77.06</td>\n",
       "    </tr>\n",
       "  </tbody>\n",
       "</table>\n",
       "</div>"
      ],
      "text/plain": [
       "   transaction_id  customer_id  age gender loyalty_member product_type  \\\n",
       "0               1         1000   53   Male             No   Smartphone   \n",
       "1               2         1000   53   Male             No       Tablet   \n",
       "2               3         1002   41   Male             No       Laptop   \n",
       "3               4         1002   41   Male            Yes   Smartphone   \n",
       "4               5         1003   75   Male            Yes   Smartphone   \n",
       "\n",
       "       sku  rating order_status payment_method  total_price  unit_price  \\\n",
       "0  SKU1004       2    Cancelled    Credit Card      5538.33      791.19   \n",
       "1  SKU1002       3    Completed         Paypal       741.09      247.03   \n",
       "2  SKU1005       3    Completed    Credit Card      1855.84      463.96   \n",
       "3  SKU1004       2    Completed           Cash      3164.76      791.19   \n",
       "4  SKU1001       5    Completed           Cash        41.50       20.75   \n",
       "\n",
       "   quantity purchase_date shipping_type add_ons_purchased  add_on_total  \\\n",
       "0         7    2024-03-20      Standard           Add ons         40.21   \n",
       "1         3    2024-04-20     Overnight           Add ons         26.09   \n",
       "2         4    2023-10-17       Express        No Add ons          0.00   \n",
       "3         4    2024-08-09     Overnight           Add ons         60.16   \n",
       "4         2    2024-05-21       Express           Add ons         35.56   \n",
       "\n",
       "   revenue  \n",
       "0  5578.54  \n",
       "1   767.18  \n",
       "2  1855.84  \n",
       "3  3224.92  \n",
       "4    77.06  "
      ]
     },
     "execution_count": 4,
     "metadata": {},
     "output_type": "execute_result"
    }
   ],
   "source": [
    "# Creat an expectation suite\n",
    "expectation_suite_name = 'expectation-sales-dataset'\n",
    "context.add_or_update_expectation_suite(expectation_suite_name)\n",
    "\n",
    "# Create a validator using above expectation suite\n",
    "validator = context.get_validator(\n",
    "    batch_request = batch_request,\n",
    "    expectation_suite_name = expectation_suite_name\n",
    ")\n",
    "\n",
    "# Check the validator\n",
    "validator.head()"
   ]
  },
  {
   "cell_type": "markdown",
   "metadata": {},
   "source": [
    "# 4. Expectation"
   ]
  },
  {
   "cell_type": "markdown",
   "metadata": {},
   "source": [
    "##  4.1. To be unique"
   ]
  },
  {
   "cell_type": "markdown",
   "metadata": {},
   "source": [
    "The `transaction_id` column must have unique values for each transaction to avoid data duplication. By using the expectation `expect_column_values_to_be_unique`, we can validate that every value in this column is indeed unique, preventing any data duplication."
   ]
  },
  {
   "cell_type": "code",
   "execution_count": 5,
   "metadata": {},
   "outputs": [
    {
     "data": {
      "application/vnd.jupyter.widget-view+json": {
       "model_id": "e5a5be8731bc420c8f28d9798b3de0dd",
       "version_major": 2,
       "version_minor": 0
      },
      "text/plain": [
       "Calculating Metrics:   0%|          | 0/8 [00:00<?, ?it/s]"
      ]
     },
     "metadata": {},
     "output_type": "display_data"
    },
    {
     "data": {
      "text/plain": [
       "{\n",
       "  \"success\": true,\n",
       "  \"result\": {\n",
       "    \"element_count\": 20000,\n",
       "    \"unexpected_count\": 0,\n",
       "    \"unexpected_percent\": 0.0,\n",
       "    \"partial_unexpected_list\": [],\n",
       "    \"missing_count\": 0,\n",
       "    \"missing_percent\": 0.0,\n",
       "    \"unexpected_percent_total\": 0.0,\n",
       "    \"unexpected_percent_nonmissing\": 0.0\n",
       "  },\n",
       "  \"meta\": {},\n",
       "  \"exception_info\": {\n",
       "    \"raised_exception\": false,\n",
       "    \"exception_traceback\": null,\n",
       "    \"exception_message\": null\n",
       "  }\n",
       "}"
      ]
     },
     "execution_count": 5,
     "metadata": {},
     "output_type": "execute_result"
    }
   ],
   "source": [
    "validator.expect_column_values_to_be_unique('transaction_id')"
   ]
  },
  {
   "cell_type": "markdown",
   "metadata": {},
   "source": [
    "The `transaction_id` column meets the expectation that each data entry is unique, with no duplicate data present."
   ]
  },
  {
   "cell_type": "markdown",
   "metadata": {},
   "source": [
    "## 4.2. To be between "
   ]
  },
  {
   "cell_type": "markdown",
   "metadata": {},
   "source": [
    "The `age` column must have values within the range of 18 to 80, as this data relates to the sale of electronic goods typically targeted at consumers across various age groups, but with certain age restrictions to prevent unrealistic data or data from irrelevant age groups, such as children or elderly individuals who rarely purchase electronic items. By using the expectation `expect_column_values_to_be_between`, we can validate that each value in this column falls within the specified age criteria, thereby preventing invalid and irrelevant data."
   ]
  },
  {
   "cell_type": "code",
   "execution_count": 6,
   "metadata": {},
   "outputs": [
    {
     "data": {
      "application/vnd.jupyter.widget-view+json": {
       "model_id": "4a92b449309a4239819ac431fa823a1b",
       "version_major": 2,
       "version_minor": 0
      },
      "text/plain": [
       "Calculating Metrics:   0%|          | 0/8 [00:00<?, ?it/s]"
      ]
     },
     "metadata": {},
     "output_type": "display_data"
    },
    {
     "data": {
      "text/plain": [
       "{\n",
       "  \"success\": true,\n",
       "  \"result\": {\n",
       "    \"element_count\": 20000,\n",
       "    \"unexpected_count\": 0,\n",
       "    \"unexpected_percent\": 0.0,\n",
       "    \"partial_unexpected_list\": [],\n",
       "    \"missing_count\": 0,\n",
       "    \"missing_percent\": 0.0,\n",
       "    \"unexpected_percent_total\": 0.0,\n",
       "    \"unexpected_percent_nonmissing\": 0.0\n",
       "  },\n",
       "  \"meta\": {},\n",
       "  \"exception_info\": {\n",
       "    \"raised_exception\": false,\n",
       "    \"exception_traceback\": null,\n",
       "    \"exception_message\": null\n",
       "  }\n",
       "}"
      ]
     },
     "execution_count": 6,
     "metadata": {},
     "output_type": "execute_result"
    }
   ],
   "source": [
    "validator.expect_column_values_to_be_between(column='age', min_value=18, max_value=80)"
   ]
  },
  {
   "cell_type": "markdown",
   "metadata": {},
   "source": [
    "The `age` column meets the expectation that all data values must fall within the range of 18 to 80."
   ]
  },
  {
   "cell_type": "markdown",
   "metadata": {},
   "source": [
    "## 4.3. To be in set"
   ]
  },
  {
   "cell_type": "markdown",
   "metadata": {},
   "source": [
    "The `product_type` column must contain values from a specific set, namely 'Smartphone', 'Tablet', 'Laptop', 'Smartwatch', 'Headphones', as the store only sells these products. By using `expect_column_values_to_be_in_set`, we can ensure that the column contains only product types that match the categories being sold, thereby preventing misclassification or irrelevant data."
   ]
  },
  {
   "cell_type": "code",
   "execution_count": 7,
   "metadata": {},
   "outputs": [
    {
     "data": {
      "application/vnd.jupyter.widget-view+json": {
       "model_id": "13093597991c4a639b756fa593117497",
       "version_major": 2,
       "version_minor": 0
      },
      "text/plain": [
       "Calculating Metrics:   0%|          | 0/8 [00:00<?, ?it/s]"
      ]
     },
     "metadata": {},
     "output_type": "display_data"
    },
    {
     "data": {
      "text/plain": [
       "{\n",
       "  \"success\": true,\n",
       "  \"result\": {\n",
       "    \"element_count\": 20000,\n",
       "    \"unexpected_count\": 0,\n",
       "    \"unexpected_percent\": 0.0,\n",
       "    \"partial_unexpected_list\": [],\n",
       "    \"missing_count\": 0,\n",
       "    \"missing_percent\": 0.0,\n",
       "    \"unexpected_percent_total\": 0.0,\n",
       "    \"unexpected_percent_nonmissing\": 0.0\n",
       "  },\n",
       "  \"meta\": {},\n",
       "  \"exception_info\": {\n",
       "    \"raised_exception\": false,\n",
       "    \"exception_traceback\": null,\n",
       "    \"exception_message\": null\n",
       "  }\n",
       "}"
      ]
     },
     "execution_count": 7,
     "metadata": {},
     "output_type": "execute_result"
    }
   ],
   "source": [
    "validator.expect_column_values_to_be_in_set(column='product_type', value_set=['Smartphone', 'Tablet', 'Laptop', 'Smartwatch', 'Headphones'])"
   ]
  },
  {
   "cell_type": "markdown",
   "metadata": {},
   "source": [
    "The `product_type` column meets expectations, with all values being within a specified set."
   ]
  },
  {
   "cell_type": "markdown",
   "metadata": {},
   "source": [
    "## 4.4. To be in type list"
   ]
  },
  {
   "cell_type": "markdown",
   "metadata": {},
   "source": [
    "The `total_price` column must have the data type 'float64' to ensure accurate price calculations and analysis. By using `expect_column_values_to_be_in_type_list`, we can ensure that the column has the appropriate data type, preventing errors in the calculation and further analysis processes."
   ]
  },
  {
   "cell_type": "code",
   "execution_count": 10,
   "metadata": {},
   "outputs": [
    {
     "data": {
      "application/vnd.jupyter.widget-view+json": {
       "model_id": "6196aadb613b49569e34dbb99c4bbbe1",
       "version_major": 2,
       "version_minor": 0
      },
      "text/plain": [
       "Calculating Metrics:   0%|          | 0/1 [00:00<?, ?it/s]"
      ]
     },
     "metadata": {},
     "output_type": "display_data"
    },
    {
     "data": {
      "text/plain": [
       "{\n",
       "  \"success\": true,\n",
       "  \"result\": {\n",
       "    \"observed_value\": \"float64\"\n",
       "  },\n",
       "  \"meta\": {},\n",
       "  \"exception_info\": {\n",
       "    \"raised_exception\": false,\n",
       "    \"exception_traceback\": null,\n",
       "    \"exception_message\": null\n",
       "  }\n",
       "}"
      ]
     },
     "execution_count": 10,
     "metadata": {},
     "output_type": "execute_result"
    }
   ],
   "source": [
    "validator.expect_column_values_to_be_in_type_list(column='total_price', type_list=['float64'])"
   ]
  },
  {
   "cell_type": "markdown",
   "metadata": {},
   "source": [
    "The `total_price` column meets expectations, with the data type being 'float64'."
   ]
  },
  {
   "cell_type": "markdown",
   "metadata": {},
   "source": [
    "## 4.5. To match regex"
   ]
  },
  {
   "cell_type": "markdown",
   "metadata": {},
   "source": [
    "The `purchase_date` column must have a consistent date format of YYYY-MM-DD to maintain data consistency and prevent incorrect interpretation or invalid date entries. By using `expect_column_values_to_match_regex`, we can ensure that each value in the column follows the correct date format, thereby avoiding data inconsistencies that could interfere with analysis and reporting."
   ]
  },
  {
   "cell_type": "code",
   "execution_count": 11,
   "metadata": {},
   "outputs": [
    {
     "data": {
      "application/vnd.jupyter.widget-view+json": {
       "model_id": "832dcf25bc6244b7a4253c20bba57035",
       "version_major": 2,
       "version_minor": 0
      },
      "text/plain": [
       "Calculating Metrics:   0%|          | 0/8 [00:00<?, ?it/s]"
      ]
     },
     "metadata": {},
     "output_type": "display_data"
    },
    {
     "data": {
      "text/plain": [
       "{\n",
       "  \"success\": true,\n",
       "  \"result\": {\n",
       "    \"element_count\": 20000,\n",
       "    \"unexpected_count\": 0,\n",
       "    \"unexpected_percent\": 0.0,\n",
       "    \"partial_unexpected_list\": [],\n",
       "    \"missing_count\": 0,\n",
       "    \"missing_percent\": 0.0,\n",
       "    \"unexpected_percent_total\": 0.0,\n",
       "    \"unexpected_percent_nonmissing\": 0.0\n",
       "  },\n",
       "  \"meta\": {},\n",
       "  \"exception_info\": {\n",
       "    \"raised_exception\": false,\n",
       "    \"exception_traceback\": null,\n",
       "    \"exception_message\": null\n",
       "  }\n",
       "}"
      ]
     },
     "execution_count": 11,
     "metadata": {},
     "output_type": "execute_result"
    }
   ],
   "source": [
    "validator.expect_column_values_to_match_regex(column=\"purchase_date\", regex=r\"\\d{4}-\\d{2}-\\d{2}\")"
   ]
  },
  {
   "cell_type": "markdown",
   "metadata": {},
   "source": [
    "The `purchase_date` column meets expectations, with the date format being consistent as YYYY-MM-DD."
   ]
  },
  {
   "cell_type": "markdown",
   "metadata": {},
   "source": [
    "## 4.6. Unique value count to be between"
   ]
  },
  {
   "cell_type": "markdown",
   "metadata": {},
   "source": [
    "The `payment_method` column must have a number of unique values $\\leq$ 6, as the store only accepts a maximum of 6 different payment methods. By using `expect_column_unique_value_count_to_be_between`, we can validate that the number of payment types listed in the column does not exceed the specified limit, ensuring the data remains consistent with the store's policy and preventing invalid entries."
   ]
  },
  {
   "cell_type": "code",
   "execution_count": 12,
   "metadata": {},
   "outputs": [
    {
     "data": {
      "application/vnd.jupyter.widget-view+json": {
       "model_id": "19f6c57fafab42b18c845c2e41a39bcd",
       "version_major": 2,
       "version_minor": 0
      },
      "text/plain": [
       "Calculating Metrics:   0%|          | 0/4 [00:00<?, ?it/s]"
      ]
     },
     "metadata": {},
     "output_type": "display_data"
    },
    {
     "data": {
      "text/plain": [
       "{\n",
       "  \"success\": true,\n",
       "  \"result\": {\n",
       "    \"observed_value\": 6\n",
       "  },\n",
       "  \"meta\": {},\n",
       "  \"exception_info\": {\n",
       "    \"raised_exception\": false,\n",
       "    \"exception_traceback\": null,\n",
       "    \"exception_message\": null\n",
       "  }\n",
       "}"
      ]
     },
     "execution_count": 12,
     "metadata": {},
     "output_type": "execute_result"
    }
   ],
   "source": [
    "validator.expect_column_unique_value_count_to_be_between(column='payment_method', min_value=1, max_value=6)"
   ]
  },
  {
   "cell_type": "markdown",
   "metadata": {},
   "source": [
    "The `payment_method` column meets expectations, with the number of unique values being $\\leq$ 6."
   ]
  },
  {
   "cell_type": "markdown",
   "metadata": {},
   "source": [
    "## 4.7. Table column count to equal"
   ]
  },
  {
   "cell_type": "markdown",
   "metadata": {},
   "source": [
    "The dataset must have 18 columns to ensure consistency in data structure and alignment with the predefined format, allowing the data to be processed correctly in analysis or system integration, while preventing missing or irrelevant columns. By using `expect_table_column_count_to_equal`, we can ensure that the number of columns in the dataset matches the specified value."
   ]
  },
  {
   "cell_type": "code",
   "execution_count": 13,
   "metadata": {},
   "outputs": [
    {
     "data": {
      "application/vnd.jupyter.widget-view+json": {
       "model_id": "4344d9f94ed24c72b699fd7c503fed3a",
       "version_major": 2,
       "version_minor": 0
      },
      "text/plain": [
       "Calculating Metrics:   0%|          | 0/3 [00:00<?, ?it/s]"
      ]
     },
     "metadata": {},
     "output_type": "display_data"
    },
    {
     "data": {
      "text/plain": [
       "{\n",
       "  \"success\": true,\n",
       "  \"result\": {\n",
       "    \"observed_value\": 18\n",
       "  },\n",
       "  \"meta\": {},\n",
       "  \"exception_info\": {\n",
       "    \"raised_exception\": false,\n",
       "    \"exception_traceback\": null,\n",
       "    \"exception_message\": null\n",
       "  }\n",
       "}"
      ]
     },
     "execution_count": 13,
     "metadata": {},
     "output_type": "execute_result"
    }
   ],
   "source": [
    "validator.expect_table_column_count_to_equal(value=18)"
   ]
  },
  {
   "cell_type": "markdown",
   "metadata": {},
   "source": [
    "The number of columns in the dataset meets expectations, with a total of 18 columns."
   ]
  },
  {
   "cell_type": "markdown",
   "metadata": {},
   "source": [
    "# 5. Saving Great Expectation"
   ]
  },
  {
   "cell_type": "markdown",
   "metadata": {},
   "source": [
    "## 5.1. Save into Expectation Suite"
   ]
  },
  {
   "cell_type": "markdown",
   "metadata": {},
   "source": [
    "In this section, I will store the validation results in the Expectation Suite using `discard_failed_expectations=False` to ensure that failed expectations are still recorded."
   ]
  },
  {
   "cell_type": "code",
   "execution_count": 14,
   "metadata": {},
   "outputs": [],
   "source": [
    "# Save into Expectation Suite\n",
    "validator.save_expectation_suite(discard_failed_expectations=False)"
   ]
  },
  {
   "cell_type": "markdown",
   "metadata": {},
   "source": [
    "## 5.2. Create a Checkpoint"
   ]
  },
  {
   "cell_type": "markdown",
   "metadata": {},
   "source": [
    "In this section, I will create a checkpoint named `checkpoint_1` to store the validation status using the validator that has been created. Afterward, I will run this checkpoint to verify whether the data meets the defined expectations."
   ]
  },
  {
   "cell_type": "code",
   "execution_count": 15,
   "metadata": {},
   "outputs": [],
   "source": [
    "# Create a checkpoint\n",
    "checkpoint_1 = context.add_or_update_checkpoint(\n",
    "    name = 'checkpoint_1',\n",
    "    validator = validator,\n",
    ")"
   ]
  },
  {
   "cell_type": "code",
   "execution_count": 16,
   "metadata": {},
   "outputs": [
    {
     "data": {
      "application/vnd.jupyter.widget-view+json": {
       "model_id": "854affedfacb46f9a91d4a9200e2bf41",
       "version_major": 2,
       "version_minor": 0
      },
      "text/plain": [
       "Calculating Metrics:   0%|          | 0/33 [00:00<?, ?it/s]"
      ]
     },
     "metadata": {},
     "output_type": "display_data"
    }
   ],
   "source": [
    "# Run a checkpoint\n",
    "checkpoint_result = checkpoint_1.run()"
   ]
  },
  {
   "cell_type": "markdown",
   "metadata": {},
   "source": [
    "## 5.3. Create Data Docs"
   ]
  },
  {
   "cell_type": "markdown",
   "metadata": {},
   "source": [
    "In this section, I will create data docs containing documentation of the data validation results. This process will generate a report that includes all the expectations applied, as well as the validation status for each tested data."
   ]
  },
  {
   "cell_type": "code",
   "execution_count": null,
   "metadata": {},
   "outputs": [],
   "source": [
    "# Build data docs\n",
    "context.build_data_docs()"
   ]
  }
 ],
 "metadata": {
  "kernelspec": {
   "display_name": "base",
   "language": "python",
   "name": "python3"
  },
  "language_info": {
   "codemirror_mode": {
    "name": "ipython",
    "version": 3
   },
   "file_extension": ".py",
   "mimetype": "text/x-python",
   "name": "python",
   "nbconvert_exporter": "python",
   "pygments_lexer": "ipython3",
   "version": "3.12.2"
  }
 },
 "nbformat": 4,
 "nbformat_minor": 2
}
